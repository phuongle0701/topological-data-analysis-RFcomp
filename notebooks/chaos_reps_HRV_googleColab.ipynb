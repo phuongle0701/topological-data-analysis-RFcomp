{
  "nbformat": 4,
  "nbformat_minor": 0,
  "metadata": {
    "language_info": {
      "codemirror_mode": {
        "name": "ipython",
        "version": 3
      },
      "file_extension": ".py",
      "mimetype": "text/x-python",
      "name": "python",
      "nbconvert_exporter": "python",
      "pygments_lexer": "ipython3",
      "version": "3.8.3-final"
    },
    "orig_nbformat": 2,
    "kernelspec": {
      "name": "python3",
      "display_name": "Python 3",
      "language": "python"
    },
    "colab": {
      "name": "chaos_reps_HRV_googleColab.ipynb",
      "provenance": [],
      "collapsed_sections": [],
      "toc_visible": true
    }
  },
  "cells": [
    {
      "cell_type": "code",
      "metadata": {
        "id": "6zNvqEV1FFwq"
      },
      "source": [
        "from __future__ import division, print_function, absolute_import\n",
        "#from Time import *\n",
        "import os\n",
        "import sys\n",
        "import scipy.io\n",
        "from itertools import groupby\n",
        "import numpy as np\n",
        "#from dnacgr import *\n",
        "#from helper import *\n",
        "####################\n",
        "import warnings\n",
        "#### Numba GPU + CPU Computing ####\n",
        "import numba as nb\n",
        "from numba import jit\n",
        "from numba import njit\n",
        "from numba import vectorize, float64\n",
        "from numba import types\n",
        "from numba.extending import overload_method\n",
        "\n",
        "from pylab import *\n",
        "from ripser import ripser, Rips\n",
        "from persim import plot_diagrams\n",
        "from matplotlib import pyplot as plt\n",
        "\n",
        "from gudhi.wasserstein import wasserstein_distance\n",
        "import cython \n",
        "import ot"
      ],
      "execution_count": 11,
      "outputs": []
    },
    {
      "cell_type": "code",
      "metadata": {
        "id": "DoW-BWojsxbd"
      },
      "source": [
        "from gudhi.hera import wasserstein_distance as wasserstein_distance_approx"
      ],
      "execution_count": 42,
      "outputs": []
    },
    {
      "cell_type": "code",
      "metadata": {
        "id": "WeVffFA8FFw0"
      },
      "source": [
        "import csv"
      ],
      "execution_count": 12,
      "outputs": []
    },
    {
      "cell_type": "code",
      "metadata": {
        "id": "G8WjIS2oFFw1"
      },
      "source": [
        "@overload_method(types.Array, 'repeat')\n",
        "def extractLabels(seqs):\n",
        "    Labels = []\n",
        "    append = Labels.append\n",
        "    n = len(seqs)\n",
        "    for i in range(n):\n",
        "        label_sq = str(seqs[i].id)\n",
        "        append(label_sq)\n",
        "    return  Labels"
      ],
      "execution_count": 13,
      "outputs": []
    },
    {
      "cell_type": "code",
      "metadata": {
        "id": "akAd5HJMFFw3"
      },
      "source": [
        "## function to get the diagrams with given input: \n",
        "\"\"\"Input: datalist\"\"\"\n",
        "@overload_method(types.Array, 'repeat')\n",
        "def DiagListComp(input):\n",
        "    rips = Rips(maxdim=1, coeff=2)\n",
        "    DiagramsList = [rips.fit_transform(data) for data in input]\n",
        "    return DiagramsList"
      ],
      "execution_count": 14,
      "outputs": []
    },
    {
      "cell_type": "code",
      "metadata": {
        "id": "Qta8TtUEFFw4"
      },
      "source": [
        "# function to get the list of diagrams with order given \n",
        "@overload_method(types.Array, 'repeat')\n",
        "def Diagrams_Type(Diags, order,size):\n",
        "    Diags_order = [Diags[i][order] for i in range(size)]  ## Get the diagrams\n",
        "    return Diags_order"
      ],
      "execution_count": 31,
      "outputs": []
    },
    {
      "cell_type": "code",
      "metadata": {
        "id": "DXnVFNOLFFw4"
      },
      "source": [
        "## Function to compute the Bottle Neck distance matrix from a list of diagrams\n",
        "@overload_method(types.Array, 'repeat')\n",
        "def MatrixDistance(diagsList, nsize, epsilon):\n",
        "    Dist = np.zeros((nsize,nsize))\n",
        "    slicing = nsize\n",
        "    for i in range(len(diagsList)-1):\n",
        "        for j in range((i+1),slicing):\n",
        "            diagi = diagsList[i]\n",
        "            diagj = diagsList[j]\n",
        "            Dist[i,j] = wasserstein_distance_approx(diagi, diagj,order=1.,internal_p=np.inf,delta=epsilon)\n",
        "        MatDist = Dist + Dist.transpose()\n",
        "    return MatDist"
      ],
      "execution_count": 77,
      "outputs": []
    },
    {
      "cell_type": "code",
      "metadata": {
        "id": "qIwYs3JIFFw5"
      },
      "source": [
        "## function to read in csv matrix and convert into numpy array ---> store each in a list. \n",
        "@overload_method(types.Array, 'repeat')\n",
        "def DataMatrix(filelist):\n",
        "    filelist.sort(key=lambda f: int(re.sub('\\D', '', f)))\n",
        "    nsize = len(filelist)\n",
        "    Storage = []\n",
        "    append = Storage.append\n",
        "    for i in range(nsize):\n",
        "        fname = filelist[i]\n",
        "        result = np.loadtxt(open(fname), delimiter=',')\n",
        "        append(result)\n",
        "    return Storage"
      ],
      "execution_count": 17,
      "outputs": []
    },
    {
      "cell_type": "markdown",
      "metadata": {
        "id": "xfbuHVasFFw5"
      },
      "source": [
        "# Google Colab running section: "
      ]
    },
    {
      "cell_type": "code",
      "metadata": {
        "id": "AGXSo6LeGS9r"
      },
      "source": [
        "from google.colab import drive"
      ],
      "execution_count": 19,
      "outputs": []
    },
    {
      "cell_type": "code",
      "metadata": {
        "colab": {
          "resources": {
            "http://localhost:8080/nbextensions/google.colab/files.js": {
              "data": "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",
              "ok": true,
              "headers": [
                [
                  "content-type",
                  "application/javascript"
                ]
              ],
              "status": 200,
              "status_text": ""
            }
          },
          "base_uri": "https://localhost:8080/",
          "height": 1000
        },
        "id": "577KX79VFFw6",
        "outputId": "e6a31c6f-a42a-4cc8-fd4f-d61819d646a1"
      },
      "source": [
        "from google.colab import files\n",
        "uploaded = files.upload()\n",
        "\n",
        "for fn in uploaded.keys():\n",
        "  print('User uploaded file \"{name}\" with length {length} bytes'.format(\n",
        "      name=fn, length=len(uploaded[fn])))"
      ],
      "execution_count": 22,
      "outputs": [
        {
          "output_type": "display_data",
          "data": {
            "text/html": [
              "\n",
              "     <input type=\"file\" id=\"files-7fb10bca-7e11-4c6d-a79c-7dae7d778d45\" name=\"files[]\" multiple disabled\n",
              "        style=\"border:none\" />\n",
              "     <output id=\"result-7fb10bca-7e11-4c6d-a79c-7dae7d778d45\">\n",
              "      Upload widget is only available when the cell has been executed in the\n",
              "      current browser session. Please rerun this cell to enable.\n",
              "      </output>\n",
              "      <script src=\"/nbextensions/google.colab/files.js\"></script> "
            ],
            "text/plain": [
              "<IPython.core.display.HTML object>"
            ]
          },
          "metadata": {
            "tags": []
          }
        },
        {
          "output_type": "stream",
          "text": [
            "Saving 1_dna_HRV_chaos.csv to 1_dna_HRV_chaos.csv\n",
            "Saving 2_dna_HRV_chaos.csv to 2_dna_HRV_chaos.csv\n",
            "Saving 3_dna_HRV_chaos.csv to 3_dna_HRV_chaos.csv\n",
            "Saving 4_dna_HRV_chaos.csv to 4_dna_HRV_chaos.csv\n",
            "Saving 5_dna_HRV_chaos.csv to 5_dna_HRV_chaos.csv\n",
            "Saving 6_dna_HRV_chaos.csv to 6_dna_HRV_chaos.csv\n",
            "Saving 7_dna_HRV_chaos.csv to 7_dna_HRV_chaos.csv\n",
            "Saving 8_dna_HRV_chaos.csv to 8_dna_HRV_chaos.csv\n",
            "Saving 9_dna_HRV_chaos.csv to 9_dna_HRV_chaos.csv\n",
            "Saving 10_dna_HRV_chaos.csv to 10_dna_HRV_chaos.csv\n",
            "Saving 11_dna_HRV_chaos.csv to 11_dna_HRV_chaos.csv\n",
            "Saving 12_dna_HRV_chaos.csv to 12_dna_HRV_chaos.csv\n",
            "Saving 13_dna_HRV_chaos.csv to 13_dna_HRV_chaos.csv\n",
            "Saving 14_dna_HRV_chaos.csv to 14_dna_HRV_chaos.csv\n",
            "Saving 15_dna_HRV_chaos.csv to 15_dna_HRV_chaos.csv\n",
            "Saving 16_dna_HRV_chaos.csv to 16_dna_HRV_chaos.csv\n",
            "Saving 17_dna_HRV_chaos.csv to 17_dna_HRV_chaos.csv\n",
            "Saving 18_dna_HRV_chaos.csv to 18_dna_HRV_chaos.csv\n",
            "Saving 19_dna_HRV_chaos.csv to 19_dna_HRV_chaos.csv\n",
            "Saving 20_dna_HRV_chaos.csv to 20_dna_HRV_chaos.csv\n",
            "Saving 21_dna_HRV_chaos.csv to 21_dna_HRV_chaos.csv\n",
            "Saving 22_dna_HRV_chaos.csv to 22_dna_HRV_chaos.csv\n",
            "Saving 23_dna_HRV_chaos.csv to 23_dna_HRV_chaos.csv\n",
            "Saving 24_dna_HRV_chaos.csv to 24_dna_HRV_chaos.csv\n",
            "Saving 25_dna_HRV_chaos.csv to 25_dna_HRV_chaos.csv\n",
            "Saving 26_dna_HRV_chaos.csv to 26_dna_HRV_chaos.csv\n",
            "Saving 27_dna_HRV_chaos.csv to 27_dna_HRV_chaos.csv\n",
            "Saving 28_dna_HRV_chaos.csv to 28_dna_HRV_chaos.csv\n",
            "Saving 29_dna_HRV_chaos.csv to 29_dna_HRV_chaos.csv\n",
            "Saving 30_dna_HRV_chaos.csv to 30_dna_HRV_chaos.csv\n",
            "Saving 31_dna_HRV_chaos.csv to 31_dna_HRV_chaos.csv\n",
            "Saving 32_dna_HRV_chaos.csv to 32_dna_HRV_chaos.csv\n",
            "Saving 33_dna_HRV_chaos.csv to 33_dna_HRV_chaos.csv\n",
            "Saving 34_dna_HRV_chaos.csv to 34_dna_HRV_chaos.csv\n",
            "Saving 35_dna_HRV_chaos.csv to 35_dna_HRV_chaos.csv\n",
            "Saving 36_dna_HRV_chaos.csv to 36_dna_HRV_chaos.csv\n",
            "Saving 37_dna_HRV_chaos.csv to 37_dna_HRV_chaos.csv\n",
            "Saving 38_dna_HRV_chaos.csv to 38_dna_HRV_chaos.csv\n",
            "Saving 39_dna_HRV_chaos.csv to 39_dna_HRV_chaos.csv\n",
            "Saving 40_dna_HRV_chaos.csv to 40_dna_HRV_chaos.csv\n",
            "Saving 41_dna_HRV_chaos.csv to 41_dna_HRV_chaos.csv\n",
            "Saving 42_dna_HRV_chaos.csv to 42_dna_HRV_chaos.csv\n",
            "Saving 43_dna_HRV_chaos.csv to 43_dna_HRV_chaos.csv\n",
            "Saving 44_dna_HRV_chaos.csv to 44_dna_HRV_chaos.csv\n",
            "Saving 45_dna_HRV_chaos.csv to 45_dna_HRV_chaos.csv\n",
            "Saving 46_dna_HRV_chaos.csv to 46_dna_HRV_chaos.csv\n",
            "Saving 47_dna_HRV_chaos.csv to 47_dna_HRV_chaos.csv\n",
            "Saving 48_dna_HRV_chaos.csv to 48_dna_HRV_chaos.csv\n",
            "Saving 49_dna_HRV_chaos.csv to 49_dna_HRV_chaos.csv\n",
            "Saving 50_dna_HRV_chaos.csv to 50_dna_HRV_chaos.csv\n",
            "Saving 51_dna_HRV_chaos.csv to 51_dna_HRV_chaos.csv\n",
            "Saving 52_dna_HRV_chaos.csv to 52_dna_HRV_chaos.csv\n",
            "Saving 53_dna_HRV_chaos.csv to 53_dna_HRV_chaos.csv\n",
            "Saving 54_dna_HRV_chaos.csv to 54_dna_HRV_chaos.csv\n",
            "Saving 55_dna_HRV_chaos.csv to 55_dna_HRV_chaos.csv\n",
            "Saving 56_dna_HRV_chaos.csv to 56_dna_HRV_chaos.csv\n",
            "Saving 57_dna_HRV_chaos.csv to 57_dna_HRV_chaos.csv\n",
            "Saving 58_dna_HRV_chaos.csv to 58_dna_HRV_chaos.csv\n",
            "Saving 59_dna_HRV_chaos.csv to 59_dna_HRV_chaos.csv\n",
            "Saving 60_dna_HRV_chaos.csv to 60_dna_HRV_chaos.csv\n",
            "Saving 61_dna_HRV_chaos.csv to 61_dna_HRV_chaos.csv\n",
            "Saving 62_dna_HRV_chaos.csv to 62_dna_HRV_chaos.csv\n",
            "Saving 63_dna_HRV_chaos.csv to 63_dna_HRV_chaos.csv\n",
            "Saving 64_dna_HRV_chaos.csv to 64_dna_HRV_chaos.csv\n",
            "Saving 65_dna_HRV_chaos.csv to 65_dna_HRV_chaos.csv\n",
            "Saving 66_dna_HRV_chaos.csv to 66_dna_HRV_chaos.csv\n",
            "Saving 67_dna_HRV_chaos.csv to 67_dna_HRV_chaos.csv\n",
            "Saving 68_dna_HRV_chaos.csv to 68_dna_HRV_chaos.csv\n",
            "Saving 69_dna_HRV_chaos.csv to 69_dna_HRV_chaos.csv\n",
            "Saving 70_dna_HRV_chaos.csv to 70_dna_HRV_chaos.csv\n",
            "Saving 71_dna_HRV_chaos.csv to 71_dna_HRV_chaos.csv\n",
            "Saving 72_dna_HRV_chaos.csv to 72_dna_HRV_chaos.csv\n",
            "Saving 73_dna_HRV_chaos.csv to 73_dna_HRV_chaos.csv\n",
            "Saving 74_dna_HRV_chaos.csv to 74_dna_HRV_chaos.csv\n",
            "Saving 75_dna_HRV_chaos.csv to 75_dna_HRV_chaos.csv\n",
            "Saving 76_dna_HRV_chaos.csv to 76_dna_HRV_chaos.csv\n",
            "Saving 77_dna_HRV_chaos.csv to 77_dna_HRV_chaos.csv\n",
            "Saving 78_dna_HRV_chaos.csv to 78_dna_HRV_chaos.csv\n",
            "Saving 79_dna_HRV_chaos.csv to 79_dna_HRV_chaos.csv\n",
            "Saving 80_dna_HRV_chaos.csv to 80_dna_HRV_chaos.csv\n",
            "Saving 81_dna_HRV_chaos.csv to 81_dna_HRV_chaos.csv\n",
            "Saving 82_dna_HRV_chaos.csv to 82_dna_HRV_chaos.csv\n",
            "Saving 83_dna_HRV_chaos.csv to 83_dna_HRV_chaos.csv\n",
            "Saving 84_dna_HRV_chaos.csv to 84_dna_HRV_chaos.csv\n",
            "Saving 85_dna_HRV_chaos.csv to 85_dna_HRV_chaos.csv\n",
            "Saving 86_dna_HRV_chaos.csv to 86_dna_HRV_chaos.csv\n",
            "Saving 87_dna_HRV_chaos.csv to 87_dna_HRV_chaos.csv\n",
            "Saving 88_dna_HRV_chaos.csv to 88_dna_HRV_chaos.csv\n",
            "Saving 89_dna_HRV_chaos.csv to 89_dna_HRV_chaos.csv\n",
            "Saving 90_dna_HRV_chaos.csv to 90_dna_HRV_chaos.csv\n",
            "Saving 91_dna_HRV_chaos.csv to 91_dna_HRV_chaos.csv\n",
            "Saving 92_dna_HRV_chaos.csv to 92_dna_HRV_chaos.csv\n",
            "Saving 93_dna_HRV_chaos.csv to 93_dna_HRV_chaos.csv\n",
            "Saving 94_dna_HRV_chaos.csv to 94_dna_HRV_chaos.csv\n",
            "Saving 95_dna_HRV_chaos.csv to 95_dna_HRV_chaos.csv\n",
            "Saving 96_dna_HRV_chaos.csv to 96_dna_HRV_chaos.csv\n",
            "Saving 97_dna_HRV_chaos.csv to 97_dna_HRV_chaos.csv\n",
            "Saving 98_dna_HRV_chaos.csv to 98_dna_HRV_chaos.csv\n",
            "Saving 99_dna_HRV_chaos.csv to 99_dna_HRV_chaos.csv\n",
            "Saving 100_dna_HRV_chaos.csv to 100_dna_HRV_chaos.csv\n",
            "Saving 101_dna_HRV_chaos.csv to 101_dna_HRV_chaos.csv\n",
            "Saving 102_dna_HRV_chaos.csv to 102_dna_HRV_chaos.csv\n",
            "Saving 103_dna_HRV_chaos.csv to 103_dna_HRV_chaos.csv\n",
            "Saving 104_dna_HRV_chaos.csv to 104_dna_HRV_chaos.csv\n",
            "Saving 105_dna_HRV_chaos.csv to 105_dna_HRV_chaos.csv\n",
            "Saving 106_dna_HRV_chaos.csv to 106_dna_HRV_chaos.csv\n",
            "Saving 107_dna_HRV_chaos.csv to 107_dna_HRV_chaos.csv\n",
            "Saving 108_dna_HRV_chaos.csv to 108_dna_HRV_chaos.csv\n",
            "Saving 109_dna_HRV_chaos.csv to 109_dna_HRV_chaos.csv\n",
            "Saving 110_dna_HRV_chaos.csv to 110_dna_HRV_chaos.csv\n",
            "Saving 111_dna_HRV_chaos.csv to 111_dna_HRV_chaos.csv\n",
            "Saving 112_dna_HRV_chaos.csv to 112_dna_HRV_chaos.csv\n",
            "Saving 113_dna_HRV_chaos.csv to 113_dna_HRV_chaos.csv\n",
            "Saving 114_dna_HRV_chaos.csv to 114_dna_HRV_chaos.csv\n",
            "Saving 115_dna_HRV_chaos.csv to 115_dna_HRV_chaos.csv\n",
            "Saving 116_dna_HRV_chaos.csv to 116_dna_HRV_chaos.csv\n",
            "User uploaded file \"1_dna_HRV_chaos.csv\" with length 208824 bytes\n",
            "User uploaded file \"2_dna_HRV_chaos.csv\" with length 207368 bytes\n",
            "User uploaded file \"3_dna_HRV_chaos.csv\" with length 199836 bytes\n",
            "User uploaded file \"4_dna_HRV_chaos.csv\" with length 201824 bytes\n",
            "User uploaded file \"5_dna_HRV_chaos.csv\" with length 202048 bytes\n",
            "User uploaded file \"6_dna_HRV_chaos.csv\" with length 201992 bytes\n",
            "User uploaded file \"7_dna_HRV_chaos.csv\" with length 202244 bytes\n",
            "User uploaded file \"8_dna_HRV_chaos.csv\" with length 201936 bytes\n",
            "User uploaded file \"9_dna_HRV_chaos.csv\" with length 200060 bytes\n",
            "User uploaded file \"10_dna_HRV_chaos.csv\" with length 199920 bytes\n",
            "User uploaded file \"11_dna_HRV_chaos.csv\" with length 199752 bytes\n",
            "User uploaded file \"12_dna_HRV_chaos.csv\" with length 199360 bytes\n",
            "User uploaded file \"13_dna_HRV_chaos.csv\" with length 198968 bytes\n",
            "User uploaded file \"14_dna_HRV_chaos.csv\" with length 196700 bytes\n",
            "User uploaded file \"15_dna_HRV_chaos.csv\" with length 199444 bytes\n",
            "User uploaded file \"16_dna_HRV_chaos.csv\" with length 199780 bytes\n",
            "User uploaded file \"17_dna_HRV_chaos.csv\" with length 200004 bytes\n",
            "User uploaded file \"18_dna_HRV_chaos.csv\" with length 199948 bytes\n",
            "User uploaded file \"19_dna_HRV_chaos.csv\" with length 200144 bytes\n",
            "User uploaded file \"20_dna_HRV_chaos.csv\" with length 200004 bytes\n",
            "User uploaded file \"21_dna_HRV_chaos.csv\" with length 200144 bytes\n",
            "User uploaded file \"22_dna_HRV_chaos.csv\" with length 199836 bytes\n",
            "User uploaded file \"23_dna_HRV_chaos.csv\" with length 197008 bytes\n",
            "User uploaded file \"24_dna_HRV_chaos.csv\" with length 194432 bytes\n",
            "User uploaded file \"25_dna_HRV_chaos.csv\" with length 196420 bytes\n",
            "User uploaded file \"26_dna_HRV_chaos.csv\" with length 199500 bytes\n",
            "User uploaded file \"27_dna_HRV_chaos.csv\" with length 199472 bytes\n",
            "User uploaded file \"28_dna_HRV_chaos.csv\" with length 202132 bytes\n",
            "User uploaded file \"29_dna_HRV_chaos.csv\" with length 202048 bytes\n",
            "User uploaded file \"30_dna_HRV_chaos.csv\" with length 201992 bytes\n",
            "User uploaded file \"31_dna_HRV_chaos.csv\" with length 199752 bytes\n",
            "User uploaded file \"32_dna_HRV_chaos.csv\" with length 198772 bytes\n",
            "User uploaded file \"33_dna_HRV_chaos.csv\" with length 199192 bytes\n",
            "User uploaded file \"34_dna_HRV_chaos.csv\" with length 198408 bytes\n",
            "User uploaded file \"35_dna_HRV_chaos.csv\" with length 199752 bytes\n",
            "User uploaded file \"36_dna_HRV_chaos.csv\" with length 201936 bytes\n",
            "User uploaded file \"37_dna_HRV_chaos.csv\" with length 199024 bytes\n",
            "User uploaded file \"38_dna_HRV_chaos.csv\" with length 199752 bytes\n",
            "User uploaded file \"39_dna_HRV_chaos.csv\" with length 199724 bytes\n",
            "User uploaded file \"40_dna_HRV_chaos.csv\" with length 199920 bytes\n",
            "User uploaded file \"41_dna_HRV_chaos.csv\" with length 200004 bytes\n",
            "User uploaded file \"42_dna_HRV_chaos.csv\" with length 199332 bytes\n",
            "User uploaded file \"43_dna_HRV_chaos.csv\" with length 199724 bytes\n",
            "User uploaded file \"44_dna_HRV_chaos.csv\" with length 199724 bytes\n",
            "User uploaded file \"45_dna_HRV_chaos.csv\" with length 199136 bytes\n",
            "User uploaded file \"46_dna_HRV_chaos.csv\" with length 199500 bytes\n",
            "User uploaded file \"47_dna_HRV_chaos.csv\" with length 201852 bytes\n",
            "User uploaded file \"48_dna_HRV_chaos.csv\" with length 199416 bytes\n",
            "User uploaded file \"49_dna_HRV_chaos.csv\" with length 199612 bytes\n",
            "User uploaded file \"50_dna_HRV_chaos.csv\" with length 199696 bytes\n",
            "User uploaded file \"51_dna_HRV_chaos.csv\" with length 199668 bytes\n",
            "User uploaded file \"52_dna_HRV_chaos.csv\" with length 199864 bytes\n",
            "User uploaded file \"53_dna_HRV_chaos.csv\" with length 202216 bytes\n",
            "User uploaded file \"54_dna_HRV_chaos.csv\" with length 199556 bytes\n",
            "User uploaded file \"55_dna_HRV_chaos.csv\" with length 199192 bytes\n",
            "User uploaded file \"56_dna_HRV_chaos.csv\" with length 199640 bytes\n",
            "User uploaded file \"57_dna_HRV_chaos.csv\" with length 199052 bytes\n",
            "User uploaded file \"58_dna_HRV_chaos.csv\" with length 199248 bytes\n",
            "User uploaded file \"59_dna_HRV_chaos.csv\" with length 200172 bytes\n",
            "User uploaded file \"60_dna_HRV_chaos.csv\" with length 202020 bytes\n",
            "User uploaded file \"61_dna_HRV_chaos.csv\" with length 199724 bytes\n",
            "User uploaded file \"62_dna_HRV_chaos.csv\" with length 199724 bytes\n",
            "User uploaded file \"63_dna_HRV_chaos.csv\" with length 199752 bytes\n",
            "User uploaded file \"64_dna_HRV_chaos.csv\" with length 199724 bytes\n",
            "User uploaded file \"65_dna_HRV_chaos.csv\" with length 199892 bytes\n",
            "User uploaded file \"66_dna_HRV_chaos.csv\" with length 199864 bytes\n",
            "User uploaded file \"67_dna_HRV_chaos.csv\" with length 199892 bytes\n",
            "User uploaded file \"68_dna_HRV_chaos.csv\" with length 199556 bytes\n",
            "User uploaded file \"69_dna_HRV_chaos.csv\" with length 199948 bytes\n",
            "User uploaded file \"70_dna_HRV_chaos.csv\" with length 200536 bytes\n",
            "User uploaded file \"71_dna_HRV_chaos.csv\" with length 199864 bytes\n",
            "User uploaded file \"72_dna_HRV_chaos.csv\" with length 199780 bytes\n",
            "User uploaded file \"73_dna_HRV_chaos.csv\" with length 201852 bytes\n",
            "User uploaded file \"74_dna_HRV_chaos.csv\" with length 200508 bytes\n",
            "User uploaded file \"75_dna_HRV_chaos.csv\" with length 202048 bytes\n",
            "User uploaded file \"76_dna_HRV_chaos.csv\" with length 199696 bytes\n",
            "User uploaded file \"77_dna_HRV_chaos.csv\" with length 202272 bytes\n",
            "User uploaded file \"78_dna_HRV_chaos.csv\" with length 199780 bytes\n",
            "User uploaded file \"79_dna_HRV_chaos.csv\" with length 199164 bytes\n",
            "User uploaded file \"80_dna_HRV_chaos.csv\" with length 199248 bytes\n",
            "User uploaded file \"81_dna_HRV_chaos.csv\" with length 199248 bytes\n",
            "User uploaded file \"82_dna_HRV_chaos.csv\" with length 199444 bytes\n",
            "User uploaded file \"83_dna_HRV_chaos.csv\" with length 202412 bytes\n",
            "User uploaded file \"84_dna_HRV_chaos.csv\" with length 201572 bytes\n",
            "User uploaded file \"85_dna_HRV_chaos.csv\" with length 199920 bytes\n",
            "User uploaded file \"86_dna_HRV_chaos.csv\" with length 201880 bytes\n",
            "User uploaded file \"87_dna_HRV_chaos.csv\" with length 200200 bytes\n",
            "User uploaded file \"88_dna_HRV_chaos.csv\" with length 200256 bytes\n",
            "User uploaded file \"89_dna_HRV_chaos.csv\" with length 199444 bytes\n",
            "User uploaded file \"90_dna_HRV_chaos.csv\" with length 202132 bytes\n",
            "User uploaded file \"91_dna_HRV_chaos.csv\" with length 202524 bytes\n",
            "User uploaded file \"92_dna_HRV_chaos.csv\" with length 199080 bytes\n",
            "User uploaded file \"93_dna_HRV_chaos.csv\" with length 199696 bytes\n",
            "User uploaded file \"94_dna_HRV_chaos.csv\" with length 201768 bytes\n",
            "User uploaded file \"95_dna_HRV_chaos.csv\" with length 199724 bytes\n",
            "User uploaded file \"96_dna_HRV_chaos.csv\" with length 201768 bytes\n",
            "User uploaded file \"97_dna_HRV_chaos.csv\" with length 199920 bytes\n",
            "User uploaded file \"98_dna_HRV_chaos.csv\" with length 200060 bytes\n",
            "User uploaded file \"99_dna_HRV_chaos.csv\" with length 199528 bytes\n",
            "User uploaded file \"100_dna_HRV_chaos.csv\" with length 199836 bytes\n",
            "User uploaded file \"101_dna_HRV_chaos.csv\" with length 198604 bytes\n",
            "User uploaded file \"102_dna_HRV_chaos.csv\" with length 199808 bytes\n",
            "User uploaded file \"103_dna_HRV_chaos.csv\" with length 199500 bytes\n",
            "User uploaded file \"104_dna_HRV_chaos.csv\" with length 199584 bytes\n",
            "User uploaded file \"105_dna_HRV_chaos.csv\" with length 200060 bytes\n",
            "User uploaded file \"106_dna_HRV_chaos.csv\" with length 200172 bytes\n",
            "User uploaded file \"107_dna_HRV_chaos.csv\" with length 199612 bytes\n",
            "User uploaded file \"108_dna_HRV_chaos.csv\" with length 202076 bytes\n",
            "User uploaded file \"109_dna_HRV_chaos.csv\" with length 202160 bytes\n",
            "User uploaded file \"110_dna_HRV_chaos.csv\" with length 202048 bytes\n",
            "User uploaded file \"111_dna_HRV_chaos.csv\" with length 199276 bytes\n",
            "User uploaded file \"112_dna_HRV_chaos.csv\" with length 199696 bytes\n",
            "User uploaded file \"113_dna_HRV_chaos.csv\" with length 201936 bytes\n",
            "User uploaded file \"114_dna_HRV_chaos.csv\" with length 199472 bytes\n",
            "User uploaded file \"115_dna_HRV_chaos.csv\" with length 208320 bytes\n",
            "User uploaded file \"116_dna_HRV_chaos.csv\" with length 198856 bytes\n"
          ],
          "name": "stdout"
        }
      ]
    },
    {
      "cell_type": "code",
      "metadata": {
        "id": "IuCXCoehIV_r"
      },
      "source": [
        "FILES = os.listdir()\r\n",
        "fileslist = [] \r\n",
        "for file in FILES: \r\n",
        "    if file.endswith('.csv'):\r\n",
        "       fileslist.append(file)"
      ],
      "execution_count": 25,
      "outputs": []
    },
    {
      "cell_type": "code",
      "metadata": {
        "id": "m63pjRnxFFw6"
      },
      "source": [
        "DATA = DataMatrix(fileslist)"
      ],
      "execution_count": 26,
      "outputs": []
    },
    {
      "cell_type": "markdown",
      "metadata": {
        "id": "MBGE-28zFFw6"
      },
      "source": [
        "* Compute the diagrams"
      ]
    },
    {
      "cell_type": "code",
      "metadata": {
        "colab": {
          "base_uri": "https://localhost:8080/"
        },
        "id": "nBnvYSs5FFw7",
        "outputId": "a3d1ec62-f8e7-404b-a9fc-9d602806c727"
      },
      "source": [
        "Diagrams = DiagListComp(DATA)"
      ],
      "execution_count": 27,
      "outputs": [
        {
          "output_type": "stream",
          "text": [
            "Rips(maxdim=1, thresh=inf, coeff=2, do_cocycles=False, n_perm = None, verbose=True)\n"
          ],
          "name": "stdout"
        }
      ]
    },
    {
      "cell_type": "code",
      "metadata": {
        "colab": {
          "base_uri": "https://localhost:8080/"
        },
        "id": "kwNC4cokpr5U",
        "outputId": "a2c6822d-f0ce-4105-c544-cb7d7c2fd965"
      },
      "source": [
        "np.savez('DiagramsList.npz', Diagrams)"
      ],
      "execution_count": 39,
      "outputs": [
        {
          "output_type": "stream",
          "text": [
            "/usr/local/lib/python3.6/dist-packages/numpy/core/_asarray.py:136: VisibleDeprecationWarning: Creating an ndarray from ragged nested sequences (which is a list-or-tuple of lists-or-tuples-or ndarrays with different lengths or shapes) is deprecated. If you meant to do this, you must specify 'dtype=object' when creating the ndarray\n",
            "  return array(a, dtype, copy=False, order=order, subok=True)\n"
          ],
          "name": "stderr"
        }
      ]
    },
    {
      "cell_type": "code",
      "metadata": {
        "colab": {
          "base_uri": "https://localhost:8080/",
          "height": 17
        },
        "id": "m5H8WZiVp88P",
        "outputId": "2c5f1f18-1d90-4054-b22e-b4d876bca2d1"
      },
      "source": [
        "files.download(\"DiagramsList.npz\")"
      ],
      "execution_count": 40,
      "outputs": [
        {
          "output_type": "display_data",
          "data": {
            "application/javascript": [
              "\n",
              "    async function download(id, filename, size) {\n",
              "      if (!google.colab.kernel.accessAllowed) {\n",
              "        return;\n",
              "      }\n",
              "      const div = document.createElement('div');\n",
              "      const label = document.createElement('label');\n",
              "      label.textContent = `Downloading \"${filename}\": `;\n",
              "      div.appendChild(label);\n",
              "      const progress = document.createElement('progress');\n",
              "      progress.max = size;\n",
              "      div.appendChild(progress);\n",
              "      document.body.appendChild(div);\n",
              "\n",
              "      const buffers = [];\n",
              "      let downloaded = 0;\n",
              "\n",
              "      const channel = await google.colab.kernel.comms.open(id);\n",
              "      // Send a message to notify the kernel that we're ready.\n",
              "      channel.send({})\n",
              "\n",
              "      for await (const message of channel.messages) {\n",
              "        // Send a message to notify the kernel that we're ready.\n",
              "        channel.send({})\n",
              "        if (message.buffers) {\n",
              "          for (const buffer of message.buffers) {\n",
              "            buffers.push(buffer);\n",
              "            downloaded += buffer.byteLength;\n",
              "            progress.value = downloaded;\n",
              "          }\n",
              "        }\n",
              "      }\n",
              "      const blob = new Blob(buffers, {type: 'application/binary'});\n",
              "      const a = document.createElement('a');\n",
              "      a.href = window.URL.createObjectURL(blob);\n",
              "      a.download = filename;\n",
              "      div.appendChild(a);\n",
              "      a.click();\n",
              "      div.remove();\n",
              "    }\n",
              "  "
            ],
            "text/plain": [
              "<IPython.core.display.Javascript object>"
            ]
          },
          "metadata": {
            "tags": []
          }
        },
        {
          "output_type": "display_data",
          "data": {
            "application/javascript": [
              "download(\"download_8008ff38-dea7-4c99-88c4-52b33f4c85dd\", \"DiagramsList.npz\", 16445807)"
            ],
            "text/plain": [
              "<IPython.core.display.Javascript object>"
            ]
          },
          "metadata": {
            "tags": []
          }
        }
      ]
    },
    {
      "cell_type": "code",
      "metadata": {
        "colab": {
          "base_uri": "https://localhost:8080/"
        },
        "id": "SQ2offgDFFw7",
        "outputId": "c9a75030-7f66-4999-89e1-9a3fc0857735"
      },
      "source": [
        "size = len(Diagrams)\r\n",
        "print(size)"
      ],
      "execution_count": 41,
      "outputs": [
        {
          "output_type": "stream",
          "text": [
            "116\n"
          ],
          "name": "stdout"
        }
      ]
    },
    {
      "cell_type": "markdown",
      "metadata": {
        "id": "HCt3ycolFFw7"
      },
      "source": [
        "* Extracting diagrams order"
      ]
    },
    {
      "cell_type": "code",
      "metadata": {
        "id": "RZVwuZsRFFw7"
      },
      "source": [
        "Diags_H0 = Diagrams_Type(Diagrams, 0, size)\n",
        "Diags_H1 = Diagrams_Type(Diagrams, 1, size)"
      ],
      "execution_count": 37,
      "outputs": []
    },
    {
      "cell_type": "code",
      "metadata": {
        "id": "mmyBNQ9M0pqs"
      },
      "source": [
        "!mkdir DiagramsH0"
      ],
      "execution_count": 61,
      "outputs": []
    },
    {
      "cell_type": "code",
      "metadata": {
        "colab": {
          "base_uri": "https://localhost:8080/"
        },
        "id": "IyrLI9xY03Vw",
        "outputId": "f523fb3d-7381-40a4-8738-a62e43f4770f"
      },
      "source": [
        "%cd DiagramsH0"
      ],
      "execution_count": 65,
      "outputs": [
        {
          "output_type": "stream",
          "text": [
            "/content/DiagramsH0\n"
          ],
          "name": "stdout"
        }
      ]
    },
    {
      "cell_type": "code",
      "metadata": {
        "id": "QpFmCbdgwBNW"
      },
      "source": [
        "for i in range(size):\r\n",
        "  DiagH0 = Diags_H0[i]\r\n",
        "  title = str(i+1) + '_H0_' + '_persim_HRV' + '.txt'\r\n",
        "  np.savetxt(title, DiagH0, delimiter = \",\")"
      ],
      "execution_count": 66,
      "outputs": []
    },
    {
      "cell_type": "code",
      "metadata": {
        "id": "IZsM-hEs1iDz"
      },
      "source": [
        "os.chdir('/content')"
      ],
      "execution_count": 69,
      "outputs": []
    },
    {
      "cell_type": "code",
      "metadata": {
        "colab": {
          "base_uri": "https://localhost:8080/"
        },
        "id": "gVjroSa41oKa",
        "outputId": "1c5d036e-ab32-4648-9a74-65caf8756819"
      },
      "source": [
        "!mkdir DiagramsH1\r\n",
        "%cd DiagramsH1"
      ],
      "execution_count": 71,
      "outputs": [
        {
          "output_type": "stream",
          "text": [
            "/content/DiagramsH1\n"
          ],
          "name": "stdout"
        }
      ]
    },
    {
      "cell_type": "code",
      "metadata": {
        "id": "TWp-p74Fwgeq"
      },
      "source": [
        "for i in range(size):\r\n",
        "  DiagH1 = Diags_H1[i]\r\n",
        "  title = str(i+1) + '_H1_' + '_persim_HRV' + '.txt'\r\n",
        "  np.savetxt(title, DiagH1, delimiter = ',')"
      ],
      "execution_count": 72,
      "outputs": []
    },
    {
      "cell_type": "code",
      "metadata": {
        "colab": {
          "base_uri": "https://localhost:8080/"
        },
        "id": "2RhklTwJ2MoB",
        "outputId": "a182a2a4-71af-4cc8-b084-6dd0ca735295"
      },
      "source": [
        "!zip -r /content/DiagramsH0.zip /content/DiagramsH0"
      ],
      "execution_count": 74,
      "outputs": [
        {
          "output_type": "stream",
          "text": [
            "  adding: content/DiagramsH0/ (stored 0%)\n",
            "  adding: content/DiagramsH0/99_H0__persim_HRV.txt (deflated 78%)\n",
            "  adding: content/DiagramsH0/39_H0__persim_HRV.txt (deflated 78%)\n",
            "  adding: content/DiagramsH0/10_H0__persim_HRV.txt (deflated 78%)\n",
            "  adding: content/DiagramsH0/103_H0__persim_HRV.txt (deflated 78%)\n",
            "  adding: content/DiagramsH0/96_H0__persim_HRV.txt (deflated 78%)\n",
            "  adding: content/DiagramsH0/43_H0__persim_HRV.txt (deflated 78%)\n",
            "  adding: content/DiagramsH0/104_H0__persim_HRV.txt (deflated 78%)\n",
            "  adding: content/DiagramsH0/2_H0__persim_HRV.txt (deflated 78%)\n",
            "  adding: content/DiagramsH0/55_H0__persim_HRV.txt (deflated 78%)\n",
            "  adding: content/DiagramsH0/113_H0__persim_HRV.txt (deflated 78%)\n",
            "  adding: content/DiagramsH0/14_H0__persim_HRV.txt (deflated 78%)\n",
            "  adding: content/DiagramsH0/72_H0__persim_HRV.txt (deflated 78%)\n",
            "  adding: content/DiagramsH0/45_H0__persim_HRV.txt (deflated 78%)\n",
            "  adding: content/DiagramsH0/77_H0__persim_HRV.txt (deflated 78%)\n",
            "  adding: content/DiagramsH0/108_H0__persim_HRV.txt (deflated 78%)\n",
            "  adding: content/DiagramsH0/107_H0__persim_HRV.txt (deflated 78%)\n",
            "  adding: content/DiagramsH0/66_H0__persim_HRV.txt (deflated 78%)\n",
            "  adding: content/DiagramsH0/15_H0__persim_HRV.txt (deflated 78%)\n",
            "  adding: content/DiagramsH0/87_H0__persim_HRV.txt (deflated 78%)\n",
            "  adding: content/DiagramsH0/56_H0__persim_HRV.txt (deflated 78%)\n",
            "  adding: content/DiagramsH0/18_H0__persim_HRV.txt (deflated 78%)\n",
            "  adding: content/DiagramsH0/97_H0__persim_HRV.txt (deflated 78%)\n",
            "  adding: content/DiagramsH0/57_H0__persim_HRV.txt (deflated 78%)\n",
            "  adding: content/DiagramsH0/16_H0__persim_HRV.txt (deflated 78%)\n",
            "  adding: content/DiagramsH0/9_H0__persim_HRV.txt (deflated 78%)\n",
            "  adding: content/DiagramsH0/79_H0__persim_HRV.txt (deflated 78%)\n",
            "  adding: content/DiagramsH0/86_H0__persim_HRV.txt (deflated 78%)\n",
            "  adding: content/DiagramsH0/7_H0__persim_HRV.txt (deflated 78%)\n",
            "  adding: content/DiagramsH0/24_H0__persim_HRV.txt (deflated 78%)\n",
            "  adding: content/DiagramsH0/29_H0__persim_HRV.txt (deflated 78%)\n",
            "  adding: content/DiagramsH0/91_H0__persim_HRV.txt (deflated 78%)\n",
            "  adding: content/DiagramsH0/106_H0__persim_HRV.txt (deflated 78%)\n",
            "  adding: content/DiagramsH0/36_H0__persim_HRV.txt (deflated 78%)\n",
            "  adding: content/DiagramsH0/23_H0__persim_HRV.txt (deflated 78%)\n",
            "  adding: content/DiagramsH0/111_H0__persim_HRV.txt (deflated 78%)\n",
            "  adding: content/DiagramsH0/78_H0__persim_HRV.txt (deflated 78%)\n",
            "  adding: content/DiagramsH0/6_H0__persim_HRV.txt (deflated 78%)\n",
            "  adding: content/DiagramsH0/65_H0__persim_HRV.txt (deflated 78%)\n",
            "  adding: content/DiagramsH0/94_H0__persim_HRV.txt (deflated 78%)\n",
            "  adding: content/DiagramsH0/51_H0__persim_HRV.txt (deflated 78%)\n",
            "  adding: content/DiagramsH0/22_H0__persim_HRV.txt (deflated 78%)\n",
            "  adding: content/DiagramsH0/62_H0__persim_HRV.txt (deflated 78%)\n",
            "  adding: content/DiagramsH0/75_H0__persim_HRV.txt (deflated 78%)\n",
            "  adding: content/DiagramsH0/105_H0__persim_HRV.txt (deflated 78%)\n",
            "  adding: content/DiagramsH0/38_H0__persim_HRV.txt (deflated 78%)\n",
            "  adding: content/DiagramsH0/25_H0__persim_HRV.txt (deflated 78%)\n",
            "  adding: content/DiagramsH0/88_H0__persim_HRV.txt (deflated 78%)\n",
            "  adding: content/DiagramsH0/37_H0__persim_HRV.txt (deflated 78%)\n",
            "  adding: content/DiagramsH0/46_H0__persim_HRV.txt (deflated 78%)\n",
            "  adding: content/DiagramsH0/13_H0__persim_HRV.txt (deflated 78%)\n",
            "  adding: content/DiagramsH0/70_H0__persim_HRV.txt (deflated 78%)\n",
            "  adding: content/DiagramsH0/61_H0__persim_HRV.txt (deflated 78%)\n",
            "  adding: content/DiagramsH0/52_H0__persim_HRV.txt (deflated 78%)\n",
            "  adding: content/DiagramsH0/21_H0__persim_HRV.txt (deflated 78%)\n",
            "  adding: content/DiagramsH0/54_H0__persim_HRV.txt (deflated 78%)\n",
            "  adding: content/DiagramsH0/67_H0__persim_HRV.txt (deflated 78%)\n",
            "  adding: content/DiagramsH0/47_H0__persim_HRV.txt (deflated 78%)\n",
            "  adding: content/DiagramsH0/98_H0__persim_HRV.txt (deflated 78%)\n",
            "  adding: content/DiagramsH0/83_H0__persim_HRV.txt (deflated 78%)\n",
            "  adding: content/DiagramsH0/71_H0__persim_HRV.txt (deflated 78%)\n",
            "  adding: content/DiagramsH0/26_H0__persim_HRV.txt (deflated 78%)\n",
            "  adding: content/DiagramsH0/90_H0__persim_HRV.txt (deflated 78%)\n",
            "  adding: content/DiagramsH0/81_H0__persim_HRV.txt (deflated 78%)\n",
            "  adding: content/DiagramsH0/100_H0__persim_HRV.txt (deflated 78%)\n",
            "  adding: content/DiagramsH0/35_H0__persim_HRV.txt (deflated 78%)\n",
            "  adding: content/DiagramsH0/82_H0__persim_HRV.txt (deflated 78%)\n",
            "  adding: content/DiagramsH0/3_H0__persim_HRV.txt (deflated 78%)\n",
            "  adding: content/DiagramsH0/5_H0__persim_HRV.txt (deflated 78%)\n",
            "  adding: content/DiagramsH0/34_H0__persim_HRV.txt (deflated 78%)\n",
            "  adding: content/DiagramsH0/44_H0__persim_HRV.txt (deflated 78%)\n",
            "  adding: content/DiagramsH0/30_H0__persim_HRV.txt (deflated 78%)\n",
            "  adding: content/DiagramsH0/80_H0__persim_HRV.txt (deflated 78%)\n",
            "  adding: content/DiagramsH0/102_H0__persim_HRV.txt (deflated 78%)\n",
            "  adding: content/DiagramsH0/58_H0__persim_HRV.txt (deflated 78%)\n",
            "  adding: content/DiagramsH0/48_H0__persim_HRV.txt (deflated 78%)\n",
            "  adding: content/DiagramsH0/110_H0__persim_HRV.txt (deflated 78%)\n",
            "  adding: content/DiagramsH0/115_H0__persim_HRV.txt (deflated 78%)\n",
            "  adding: content/DiagramsH0/4_H0__persim_HRV.txt (deflated 78%)\n",
            "  adding: content/DiagramsH0/63_H0__persim_HRV.txt (deflated 78%)\n",
            "  adding: content/DiagramsH0/101_H0__persim_HRV.txt (deflated 78%)\n",
            "  adding: content/DiagramsH0/112_H0__persim_HRV.txt (deflated 78%)\n",
            "  adding: content/DiagramsH0/19_H0__persim_HRV.txt (deflated 78%)\n",
            "  adding: content/DiagramsH0/50_H0__persim_HRV.txt (deflated 78%)\n",
            "  adding: content/DiagramsH0/95_H0__persim_HRV.txt (deflated 78%)\n",
            "  adding: content/DiagramsH0/42_H0__persim_HRV.txt (deflated 78%)\n",
            "  adding: content/DiagramsH0/53_H0__persim_HRV.txt (deflated 78%)\n",
            "  adding: content/DiagramsH0/49_H0__persim_HRV.txt (deflated 78%)\n",
            "  adding: content/DiagramsH0/17_H0__persim_HRV.txt (deflated 78%)\n",
            "  adding: content/DiagramsH0/114_H0__persim_HRV.txt (deflated 78%)\n",
            "  adding: content/DiagramsH0/20_H0__persim_HRV.txt (deflated 78%)\n",
            "  adding: content/DiagramsH0/33_H0__persim_HRV.txt (deflated 78%)\n",
            "  adding: content/DiagramsH0/12_H0__persim_HRV.txt (deflated 78%)\n",
            "  adding: content/DiagramsH0/59_H0__persim_HRV.txt (deflated 78%)\n",
            "  adding: content/DiagramsH0/31_H0__persim_HRV.txt (deflated 78%)\n",
            "  adding: content/DiagramsH0/11_H0__persim_HRV.txt (deflated 78%)\n",
            "  adding: content/DiagramsH0/92_H0__persim_HRV.txt (deflated 78%)\n",
            "  adding: content/DiagramsH0/27_H0__persim_HRV.txt (deflated 78%)\n",
            "  adding: content/DiagramsH0/69_H0__persim_HRV.txt (deflated 78%)\n",
            "  adding: content/DiagramsH0/93_H0__persim_HRV.txt (deflated 78%)\n",
            "  adding: content/DiagramsH0/73_H0__persim_HRV.txt (deflated 78%)\n",
            "  adding: content/DiagramsH0/8_H0__persim_HRV.txt (deflated 78%)\n",
            "  adding: content/DiagramsH0/68_H0__persim_HRV.txt (deflated 78%)\n",
            "  adding: content/DiagramsH0/84_H0__persim_HRV.txt (deflated 78%)\n",
            "  adding: content/DiagramsH0/1_H0__persim_HRV.txt (deflated 78%)\n",
            "  adding: content/DiagramsH0/32_H0__persim_HRV.txt (deflated 78%)\n",
            "  adding: content/DiagramsH0/64_H0__persim_HRV.txt (deflated 78%)\n",
            "  adding: content/DiagramsH0/89_H0__persim_HRV.txt (deflated 78%)\n",
            "  adding: content/DiagramsH0/76_H0__persim_HRV.txt (deflated 78%)\n",
            "  adding: content/DiagramsH0/116_H0__persim_HRV.txt (deflated 78%)\n",
            "  adding: content/DiagramsH0/74_H0__persim_HRV.txt (deflated 78%)\n",
            "  adding: content/DiagramsH0/109_H0__persim_HRV.txt (deflated 78%)\n",
            "  adding: content/DiagramsH0/41_H0__persim_HRV.txt (deflated 78%)\n",
            "  adding: content/DiagramsH0/85_H0__persim_HRV.txt (deflated 78%)\n",
            "  adding: content/DiagramsH0/40_H0__persim_HRV.txt (deflated 78%)\n",
            "  adding: content/DiagramsH0/60_H0__persim_HRV.txt (deflated 78%)\n",
            "  adding: content/DiagramsH0/28_H0__persim_HRV.txt (deflated 78%)\n"
          ],
          "name": "stdout"
        }
      ]
    },
    {
      "cell_type": "code",
      "metadata": {
        "colab": {
          "base_uri": "https://localhost:8080/"
        },
        "id": "HHYFgwT72UV3",
        "outputId": "487ee483-1de0-4d7f-c40e-b49e123fc78e"
      },
      "source": [
        "!zip -r /content/DiagramsH1.zip /content/DiagramsH1"
      ],
      "execution_count": 75,
      "outputs": [
        {
          "output_type": "stream",
          "text": [
            "  adding: content/DiagramsH1/ (stored 0%)\n",
            "  adding: content/DiagramsH1/16_H1__persim_HRV.txt (deflated 58%)\n",
            "  adding: content/DiagramsH1/24_H1__persim_HRV.txt (deflated 58%)\n",
            "  adding: content/DiagramsH1/96_H1__persim_HRV.txt (deflated 58%)\n",
            "  adding: content/DiagramsH1/44_H1__persim_HRV.txt (deflated 58%)\n",
            "  adding: content/DiagramsH1/40_H1__persim_HRV.txt (deflated 58%)\n",
            "  adding: content/DiagramsH1/74_H1__persim_HRV.txt (deflated 58%)\n",
            "  adding: content/DiagramsH1/102_H1__persim_HRV.txt (deflated 58%)\n",
            "  adding: content/DiagramsH1/70_H1__persim_HRV.txt (deflated 58%)\n",
            "  adding: content/DiagramsH1/115_H1__persim_HRV.txt (deflated 58%)\n",
            "  adding: content/DiagramsH1/114_H1__persim_HRV.txt (deflated 58%)\n",
            "  adding: content/DiagramsH1/35_H1__persim_HRV.txt (deflated 58%)\n",
            "  adding: content/DiagramsH1/13_H1__persim_HRV.txt (deflated 58%)\n",
            "  adding: content/DiagramsH1/51_H1__persim_HRV.txt (deflated 58%)\n",
            "  adding: content/DiagramsH1/42_H1__persim_HRV.txt (deflated 58%)\n",
            "  adding: content/DiagramsH1/104_H1__persim_HRV.txt (deflated 58%)\n",
            "  adding: content/DiagramsH1/48_H1__persim_HRV.txt (deflated 58%)\n",
            "  adding: content/DiagramsH1/89_H1__persim_HRV.txt (deflated 58%)\n",
            "  adding: content/DiagramsH1/94_H1__persim_HRV.txt (deflated 58%)\n",
            "  adding: content/DiagramsH1/41_H1__persim_HRV.txt (deflated 58%)\n",
            "  adding: content/DiagramsH1/10_H1__persim_HRV.txt (deflated 58%)\n",
            "  adding: content/DiagramsH1/52_H1__persim_HRV.txt (deflated 58%)\n",
            "  adding: content/DiagramsH1/56_H1__persim_HRV.txt (deflated 58%)\n",
            "  adding: content/DiagramsH1/87_H1__persim_HRV.txt (deflated 58%)\n",
            "  adding: content/DiagramsH1/38_H1__persim_HRV.txt (deflated 58%)\n",
            "  adding: content/DiagramsH1/116_H1__persim_HRV.txt (deflated 58%)\n",
            "  adding: content/DiagramsH1/63_H1__persim_HRV.txt (deflated 58%)\n",
            "  adding: content/DiagramsH1/72_H1__persim_HRV.txt (deflated 58%)\n",
            "  adding: content/DiagramsH1/95_H1__persim_HRV.txt (deflated 58%)\n",
            "  adding: content/DiagramsH1/46_H1__persim_HRV.txt (deflated 58%)\n",
            "  adding: content/DiagramsH1/33_H1__persim_HRV.txt (deflated 58%)\n",
            "  adding: content/DiagramsH1/55_H1__persim_HRV.txt (deflated 58%)\n",
            "  adding: content/DiagramsH1/3_H1__persim_HRV.txt (deflated 58%)\n",
            "  adding: content/DiagramsH1/54_H1__persim_HRV.txt (deflated 58%)\n",
            "  adding: content/DiagramsH1/71_H1__persim_HRV.txt (deflated 58%)\n",
            "  adding: content/DiagramsH1/83_H1__persim_HRV.txt (deflated 58%)\n",
            "  adding: content/DiagramsH1/62_H1__persim_HRV.txt (deflated 58%)\n",
            "  adding: content/DiagramsH1/20_H1__persim_HRV.txt (deflated 58%)\n",
            "  adding: content/DiagramsH1/53_H1__persim_HRV.txt (deflated 58%)\n",
            "  adding: content/DiagramsH1/65_H1__persim_HRV.txt (deflated 58%)\n",
            "  adding: content/DiagramsH1/57_H1__persim_HRV.txt (deflated 58%)\n",
            "  adding: content/DiagramsH1/110_H1__persim_HRV.txt (deflated 58%)\n",
            "  adding: content/DiagramsH1/12_H1__persim_HRV.txt (deflated 58%)\n",
            "  adding: content/DiagramsH1/25_H1__persim_HRV.txt (deflated 58%)\n",
            "  adding: content/DiagramsH1/8_H1__persim_HRV.txt (deflated 58%)\n",
            "  adding: content/DiagramsH1/88_H1__persim_HRV.txt (deflated 58%)\n",
            "  adding: content/DiagramsH1/91_H1__persim_HRV.txt (deflated 58%)\n",
            "  adding: content/DiagramsH1/17_H1__persim_HRV.txt (deflated 58%)\n",
            "  adding: content/DiagramsH1/32_H1__persim_HRV.txt (deflated 58%)\n",
            "  adding: content/DiagramsH1/1_H1__persim_HRV.txt (deflated 58%)\n",
            "  adding: content/DiagramsH1/113_H1__persim_HRV.txt (deflated 58%)\n",
            "  adding: content/DiagramsH1/6_H1__persim_HRV.txt (deflated 58%)\n",
            "  adding: content/DiagramsH1/78_H1__persim_HRV.txt (deflated 58%)\n",
            "  adding: content/DiagramsH1/67_H1__persim_HRV.txt (deflated 58%)\n",
            "  adding: content/DiagramsH1/76_H1__persim_HRV.txt (deflated 58%)\n",
            "  adding: content/DiagramsH1/37_H1__persim_HRV.txt (deflated 58%)\n",
            "  adding: content/DiagramsH1/100_H1__persim_HRV.txt (deflated 58%)\n",
            "  adding: content/DiagramsH1/80_H1__persim_HRV.txt (deflated 58%)\n",
            "  adding: content/DiagramsH1/90_H1__persim_HRV.txt (deflated 58%)\n",
            "  adding: content/DiagramsH1/109_H1__persim_HRV.txt (deflated 58%)\n",
            "  adding: content/DiagramsH1/60_H1__persim_HRV.txt (deflated 58%)\n",
            "  adding: content/DiagramsH1/77_H1__persim_HRV.txt (deflated 58%)\n",
            "  adding: content/DiagramsH1/93_H1__persim_HRV.txt (deflated 58%)\n",
            "  adding: content/DiagramsH1/101_H1__persim_HRV.txt (deflated 58%)\n",
            "  adding: content/DiagramsH1/64_H1__persim_HRV.txt (deflated 58%)\n",
            "  adding: content/DiagramsH1/11_H1__persim_HRV.txt (deflated 58%)\n",
            "  adding: content/DiagramsH1/111_H1__persim_HRV.txt (deflated 58%)\n",
            "  adding: content/DiagramsH1/81_H1__persim_HRV.txt (deflated 58%)\n",
            "  adding: content/DiagramsH1/97_H1__persim_HRV.txt (deflated 58%)\n",
            "  adding: content/DiagramsH1/98_H1__persim_HRV.txt (deflated 58%)\n",
            "  adding: content/DiagramsH1/68_H1__persim_HRV.txt (deflated 58%)\n",
            "  adding: content/DiagramsH1/36_H1__persim_HRV.txt (deflated 58%)\n",
            "  adding: content/DiagramsH1/86_H1__persim_HRV.txt (deflated 58%)\n",
            "  adding: content/DiagramsH1/50_H1__persim_HRV.txt (deflated 58%)\n",
            "  adding: content/DiagramsH1/26_H1__persim_HRV.txt (deflated 58%)\n",
            "  adding: content/DiagramsH1/82_H1__persim_HRV.txt (deflated 58%)\n",
            "  adding: content/DiagramsH1/2_H1__persim_HRV.txt (deflated 58%)\n",
            "  adding: content/DiagramsH1/112_H1__persim_HRV.txt (deflated 58%)\n",
            "  adding: content/DiagramsH1/30_H1__persim_HRV.txt (deflated 58%)\n",
            "  adding: content/DiagramsH1/28_H1__persim_HRV.txt (deflated 58%)\n",
            "  adding: content/DiagramsH1/39_H1__persim_HRV.txt (deflated 58%)\n",
            "  adding: content/DiagramsH1/103_H1__persim_HRV.txt (deflated 58%)\n",
            "  adding: content/DiagramsH1/34_H1__persim_HRV.txt (deflated 58%)\n",
            "  adding: content/DiagramsH1/19_H1__persim_HRV.txt (deflated 58%)\n",
            "  adding: content/DiagramsH1/61_H1__persim_HRV.txt (deflated 58%)\n",
            "  adding: content/DiagramsH1/79_H1__persim_HRV.txt (deflated 58%)\n",
            "  adding: content/DiagramsH1/5_H1__persim_HRV.txt (deflated 58%)\n",
            "  adding: content/DiagramsH1/66_H1__persim_HRV.txt (deflated 58%)\n",
            "  adding: content/DiagramsH1/27_H1__persim_HRV.txt (deflated 58%)\n",
            "  adding: content/DiagramsH1/22_H1__persim_HRV.txt (deflated 58%)\n",
            "  adding: content/DiagramsH1/85_H1__persim_HRV.txt (deflated 58%)\n",
            "  adding: content/DiagramsH1/31_H1__persim_HRV.txt (deflated 58%)\n",
            "  adding: content/DiagramsH1/105_H1__persim_HRV.txt (deflated 58%)\n",
            "  adding: content/DiagramsH1/4_H1__persim_HRV.txt (deflated 58%)\n",
            "  adding: content/DiagramsH1/58_H1__persim_HRV.txt (deflated 58%)\n",
            "  adding: content/DiagramsH1/75_H1__persim_HRV.txt (deflated 58%)\n",
            "  adding: content/DiagramsH1/43_H1__persim_HRV.txt (deflated 58%)\n",
            "  adding: content/DiagramsH1/47_H1__persim_HRV.txt (deflated 58%)\n",
            "  adding: content/DiagramsH1/45_H1__persim_HRV.txt (deflated 58%)\n",
            "  adding: content/DiagramsH1/7_H1__persim_HRV.txt (deflated 58%)\n",
            "  adding: content/DiagramsH1/14_H1__persim_HRV.txt (deflated 58%)\n",
            "  adding: content/DiagramsH1/15_H1__persim_HRV.txt (deflated 58%)\n",
            "  adding: content/DiagramsH1/21_H1__persim_HRV.txt (deflated 58%)\n",
            "  adding: content/DiagramsH1/59_H1__persim_HRV.txt (deflated 58%)\n",
            "  adding: content/DiagramsH1/106_H1__persim_HRV.txt (deflated 58%)\n",
            "  adding: content/DiagramsH1/84_H1__persim_HRV.txt (deflated 58%)\n",
            "  adding: content/DiagramsH1/73_H1__persim_HRV.txt (deflated 58%)\n",
            "  adding: content/DiagramsH1/108_H1__persim_HRV.txt (deflated 58%)\n",
            "  adding: content/DiagramsH1/107_H1__persim_HRV.txt (deflated 58%)\n",
            "  adding: content/DiagramsH1/18_H1__persim_HRV.txt (deflated 58%)\n",
            "  adding: content/DiagramsH1/99_H1__persim_HRV.txt (deflated 58%)\n",
            "  adding: content/DiagramsH1/92_H1__persim_HRV.txt (deflated 58%)\n",
            "  adding: content/DiagramsH1/69_H1__persim_HRV.txt (deflated 58%)\n",
            "  adding: content/DiagramsH1/23_H1__persim_HRV.txt (deflated 58%)\n",
            "  adding: content/DiagramsH1/49_H1__persim_HRV.txt (deflated 58%)\n",
            "  adding: content/DiagramsH1/29_H1__persim_HRV.txt (deflated 58%)\n",
            "  adding: content/DiagramsH1/9_H1__persim_HRV.txt (deflated 58%)\n"
          ],
          "name": "stdout"
        }
      ]
    },
    {
      "cell_type": "code",
      "metadata": {
        "colab": {
          "base_uri": "https://localhost:8080/",
          "height": 17
        },
        "id": "nhGQvClY18q0",
        "outputId": "d570f20f-d29e-4d5d-86f8-19489e68b138"
      },
      "source": [
        "files.download(\"/content/DiagramsH0.zip\")\r\n",
        "files.download(\"/content/DiagramsH1.zip\")"
      ],
      "execution_count": 76,
      "outputs": [
        {
          "output_type": "display_data",
          "data": {
            "application/javascript": [
              "\n",
              "    async function download(id, filename, size) {\n",
              "      if (!google.colab.kernel.accessAllowed) {\n",
              "        return;\n",
              "      }\n",
              "      const div = document.createElement('div');\n",
              "      const label = document.createElement('label');\n",
              "      label.textContent = `Downloading \"${filename}\": `;\n",
              "      div.appendChild(label);\n",
              "      const progress = document.createElement('progress');\n",
              "      progress.max = size;\n",
              "      div.appendChild(progress);\n",
              "      document.body.appendChild(div);\n",
              "\n",
              "      const buffers = [];\n",
              "      let downloaded = 0;\n",
              "\n",
              "      const channel = await google.colab.kernel.comms.open(id);\n",
              "      // Send a message to notify the kernel that we're ready.\n",
              "      channel.send({})\n",
              "\n",
              "      for await (const message of channel.messages) {\n",
              "        // Send a message to notify the kernel that we're ready.\n",
              "        channel.send({})\n",
              "        if (message.buffers) {\n",
              "          for (const buffer of message.buffers) {\n",
              "            buffers.push(buffer);\n",
              "            downloaded += buffer.byteLength;\n",
              "            progress.value = downloaded;\n",
              "          }\n",
              "        }\n",
              "      }\n",
              "      const blob = new Blob(buffers, {type: 'application/binary'});\n",
              "      const a = document.createElement('a');\n",
              "      a.href = window.URL.createObjectURL(blob);\n",
              "      a.download = filename;\n",
              "      div.appendChild(a);\n",
              "      a.click();\n",
              "      div.remove();\n",
              "    }\n",
              "  "
            ],
            "text/plain": [
              "<IPython.core.display.Javascript object>"
            ]
          },
          "metadata": {
            "tags": []
          }
        },
        {
          "output_type": "display_data",
          "data": {
            "application/javascript": [
              "download(\"download_86dd5c44-6552-46a4-bb01-b46979c4b405\", \"DiagramsH0.zip\", 9041835)"
            ],
            "text/plain": [
              "<IPython.core.display.Javascript object>"
            ]
          },
          "metadata": {
            "tags": []
          }
        },
        {
          "output_type": "display_data",
          "data": {
            "application/javascript": [
              "\n",
              "    async function download(id, filename, size) {\n",
              "      if (!google.colab.kernel.accessAllowed) {\n",
              "        return;\n",
              "      }\n",
              "      const div = document.createElement('div');\n",
              "      const label = document.createElement('label');\n",
              "      label.textContent = `Downloading \"${filename}\": `;\n",
              "      div.appendChild(label);\n",
              "      const progress = document.createElement('progress');\n",
              "      progress.max = size;\n",
              "      div.appendChild(progress);\n",
              "      document.body.appendChild(div);\n",
              "\n",
              "      const buffers = [];\n",
              "      let downloaded = 0;\n",
              "\n",
              "      const channel = await google.colab.kernel.comms.open(id);\n",
              "      // Send a message to notify the kernel that we're ready.\n",
              "      channel.send({})\n",
              "\n",
              "      for await (const message of channel.messages) {\n",
              "        // Send a message to notify the kernel that we're ready.\n",
              "        channel.send({})\n",
              "        if (message.buffers) {\n",
              "          for (const buffer of message.buffers) {\n",
              "            buffers.push(buffer);\n",
              "            downloaded += buffer.byteLength;\n",
              "            progress.value = downloaded;\n",
              "          }\n",
              "        }\n",
              "      }\n",
              "      const blob = new Blob(buffers, {type: 'application/binary'});\n",
              "      const a = document.createElement('a');\n",
              "      a.href = window.URL.createObjectURL(blob);\n",
              "      a.download = filename;\n",
              "      div.appendChild(a);\n",
              "      a.click();\n",
              "      div.remove();\n",
              "    }\n",
              "  "
            ],
            "text/plain": [
              "<IPython.core.display.Javascript object>"
            ]
          },
          "metadata": {
            "tags": []
          }
        },
        {
          "output_type": "display_data",
          "data": {
            "application/javascript": [
              "download(\"download_0efbb1ff-f70a-41d4-bbcd-a4654f599dbf\", \"DiagramsH1.zip\", 4192864)"
            ],
            "text/plain": [
              "<IPython.core.display.Javascript object>"
            ]
          },
          "metadata": {
            "tags": []
          }
        }
      ]
    }
  ]
}