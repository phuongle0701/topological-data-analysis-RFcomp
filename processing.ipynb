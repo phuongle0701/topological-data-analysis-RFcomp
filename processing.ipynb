{
 "metadata": {
  "language_info": {
   "codemirror_mode": {
    "name": "ipython",
    "version": 3
   },
   "file_extension": ".py",
   "mimetype": "text/x-python",
   "name": "python",
   "nbconvert_exporter": "python",
   "pygments_lexer": "ipython3",
   "version": "3.8.3-final"
  },
  "orig_nbformat": 2,
  "kernelspec": {
   "name": "python3",
   "display_name": "Python 3",
   "language": "python"
  }
 },
 "nbformat": 4,
 "nbformat_minor": 2,
 "cells": [
  {
   "source": [
    "# Tree Construction"
   ],
   "cell_type": "markdown",
   "metadata": {}
  },
  {
   "cell_type": "code",
   "execution_count": 1,
   "metadata": {},
   "outputs": [],
   "source": [
    "from __future__ import division, print_function, absolute_import"
   ]
  },
  {
   "cell_type": "code",
   "execution_count": 2,
   "metadata": {},
   "outputs": [],
   "source": [
    "import numpy as np;\n",
    "import pandas as pd;\n",
    "import gudhi as gd \n",
    "from sklearn import manifold \n",
    "from pylab import *\n",
    "from ripser import ripser, Rips\n",
    "from persim import plot_diagrams\n",
    "from matplotlib import pyplot as plt"
   ]
  },
  {
   "cell_type": "code",
   "execution_count": 3,
   "metadata": {},
   "outputs": [],
   "source": [
    "## GPU computing \n",
    "import warnings\n",
    "#### Numba GPU + CPU Computing ####\n",
    "import numba as nb\n",
    "from numba import jit\n",
    "from numba import njit\n",
    "from numba import vectorize, float64\n",
    "from numba import types\n",
    "from numba.extending import overload_method"
   ]
  },
  {
   "cell_type": "code",
   "execution_count": 4,
   "metadata": {},
   "outputs": [],
   "source": [
    "from Time import *"
   ]
  },
  {
   "cell_type": "code",
   "execution_count": 5,
   "metadata": {},
   "outputs": [],
   "source": [
    "from gudhi.hera import bottleneck_distance as bottleneck"
   ]
  },
  {
   "cell_type": "code",
   "execution_count": 6,
   "metadata": {},
   "outputs": [],
   "source": [
    "import os\n",
    "import sys\n",
    "import scipy.io\n",
    "from itertools import groupby\n",
    "from Bio import SeqIO"
   ]
  },
  {
   "cell_type": "code",
   "execution_count": 7,
   "metadata": {},
   "outputs": [
    {
     "output_type": "stream",
     "name": "stdout",
     "text": [
      "b'c:\\\\Users\\\\letph\\\\Desktop\\\\MatlabCode\\\\Python Code'\n"
     ]
    }
   ],
   "source": [
    "pathfile = os.getcwdb()\n",
    "print(pathfile)"
   ]
  },
  {
   "cell_type": "code",
   "execution_count": 8,
   "metadata": {},
   "outputs": [],
   "source": [
    "#change working directory to read the virus list and Distance Matrix (Bottleneck)\n",
    "os.chdir('c:\\\\Users\\\\letph\\\\Desktop\\\\MatlabCode\\\\Python Code\\\\ZCurve')"
   ]
  },
  {
   "cell_type": "code",
   "execution_count": 9,
   "metadata": {},
   "outputs": [],
   "source": [
    "seqs = [seq for seq in SeqIO.parse(open(\"Influenza.fasta\"), \"fasta\")]"
   ]
  },
  {
   "cell_type": "code",
   "execution_count": 10,
   "metadata": {},
   "outputs": [],
   "source": [
    "VirusList = [] \n",
    "for i in range(len(seqs)):\n",
    "    Record = seqs[i]\n",
    "    TypeName = Record.id\n",
    "    VirusList.append(TypeName)"
   ]
  },
  {
   "cell_type": "code",
   "execution_count": 11,
   "metadata": {},
   "outputs": [],
   "source": [
    "DistanceMat = load('Bottleneck_Dist.npy')"
   ]
  },
  {
   "cell_type": "code",
   "execution_count": 12,
   "metadata": {},
   "outputs": [],
   "source": [
    "os.chdir('c:\\\\Users\\\\letph\\\\Desktop\\\\MatlabCode\\\\Python Code')"
   ]
  },
  {
   "cell_type": "code",
   "execution_count": 13,
   "metadata": {},
   "outputs": [],
   "source": [
    "Df_BottleneckDist = pd.DataFrame(DistanceMat, columns=VirusList, index = VirusList)"
   ]
  },
  {
   "cell_type": "code",
   "execution_count": 14,
   "metadata": {},
   "outputs": [],
   "source": [
    "np.savetxt('Bottleneck_Dist.txt', DistanceMat, fmt = \"%10.5f\", delimiter=',')\n",
    "Df_BottleneckDist.to_csv('Bottleneck_Dist.csv', sep=';',encoding='utf-8')"
   ]
  },
  {
   "cell_type": "code",
   "execution_count": 15,
   "metadata": {},
   "outputs": [],
   "source": [
    "import json\n",
    "a = VirusList\n",
    "with open('LabelTypes.txt', 'w') as f:\n",
    "    f.write(json.dumps(a))"
   ]
  },
  {
   "cell_type": "code",
   "execution_count": 16,
   "metadata": {},
   "outputs": [
    {
     "output_type": "execute_result",
     "data": {
      "text/plain": [
       "['A/turkey/Ontario/FAV110-4/2009(H1N1)',\n",
       " 'A/mallard/Nova_Scotia/00088/2010(H1N1)',\n",
       " 'A/thick-billed_murre/Canada/1871/2011(H1N1)',\n",
       " 'A/duck/Guangxi/030D/2009(H1N1)',\n",
       " 'A/mallard/France/691/2002(H1N1)',\n",
       " 'A/duck/Hokkaido/w73/2007(H1N1)',\n",
       " 'A/pintail/Miyagi/1472/2008(H1N1)',\n",
       " 'A/mallard/Korea/KNU_YP09/2009(H1N1)',\n",
       " 'A/mallard/Maryland/352/2002(H1N1)',\n",
       " 'A/mallard/Maryland/26/2003(H1N1)',\n",
       " 'A/dunlin/Alaska/44421-660/2008(H1N1)',\n",
       " 'A/mallard/Minnesota/Sg-00620/2008(H1N1)',\n",
       " 'A/turkey/Virginia/4135/2014(H1N1)',\n",
       " 'A/chicken/Eastern_China/XH222/2008(H5N1)',\n",
       " 'A/duck/Eastern_China/JS017/2009(H5N1)',\n",
       " 'A/chicken/Yunnan/chuxiong01/2005(H5N1)',\n",
       " 'A/chicken/Germany/R3234/2007(H5N1)',\n",
       " 'A/domestic_duck/Germany/R1772/2007(H5N1)',\n",
       " 'A/wild_bird/Hong_Kong/07035-1/2011(H5N1)',\n",
       " 'A/Chicken/Hong_Kong/822.1/01_(H5N1)',\n",
       " 'A/chicken/Miyazaki/10/2011(H5N1)',\n",
       " 'A/chicken/Korea/es/2003(H5N1)',\n",
       " 'A/mandarin_duck/Korea/K10-483/2010(H5N1)',\n",
       " 'A/turkey/VA/505477-18/2007(H5N1)',\n",
       " 'A/American_black_duck/NB/2538/2007(H7N3)',\n",
       " 'A/American_black_duck/New_Brunswick/02490/2007(H7N3)',\n",
       " 'A/American_green-winged_teal/California/44242-906/2007(H7N3)',\n",
       " 'A/avian/Delaware_Bay/226/2006(H7N3)',\n",
       " 'A/chicken/British_Columbia/GSC_human_B/04(H7N3)',\n",
       " 'A/chicken/Rizhao/713/2013(H7N9)',\n",
       " 'A/chicken/Jiangsu/1021/2013(H7N9)',\n",
       " 'A/duck/Jiangxi/3096/2009(H7N9)',\n",
       " 'A/wild_duck/Korea/SH19-47/2010(H7N9)',\n",
       " 'A/turkey/Minnesota/1/1988(H7N9)',\n",
       " 'A/mallard/Minnesota/AI09-3770/2009(H7N9)',\n",
       " 'A/mallard/Postdam/178-4/1983(H2N2)',\n",
       " 'A/duck/Hong_Kong/319/1978(H2N2)',\n",
       " 'A/emperor_goose/Alaska/44297-260/2007(H2N2)']"
      ]
     },
     "metadata": {},
     "execution_count": 16
    }
   ],
   "source": [
    "VirusList"
   ]
  },
  {
   "cell_type": "code",
   "execution_count": null,
   "metadata": {},
   "outputs": [],
   "source": []
  }
 ]
}